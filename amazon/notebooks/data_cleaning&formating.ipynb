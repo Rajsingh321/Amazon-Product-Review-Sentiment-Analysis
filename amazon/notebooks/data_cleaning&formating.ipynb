{
 "cells": [
  {
   "cell_type": "markdown",
   "id": "b19c4f72-6e43-4052-a2f5-b3450dab5eca",
   "metadata": {},
   "source": [
    "**Load,Clean and Format CSV Data for Data Analysis**"
   ]
  },
  {
   "cell_type": "code",
   "execution_count": null,
   "id": "6b14e835-3a4e-4a1f-9b13-2b62c671c29f",
   "metadata": {},
   "outputs": [],
   "source": [
    "import pandas as pd"
   ]
  },
  {
   "cell_type": "markdown",
   "id": "6e1b1595-3abb-468d-96e0-9483a19dca78",
   "metadata": {},
   "source": [
    "*LOADING DATA*"
   ]
  },
  {
   "cell_type": "code",
   "execution_count": 94,
   "id": "35dfc18d-9a56-411b-8dfd-aff79cdf16f1",
   "metadata": {},
   "outputs": [
    {
     "data": {
      "text/html": [
       "<div>\n",
       "<style scoped>\n",
       "    .dataframe tbody tr th:only-of-type {\n",
       "        vertical-align: middle;\n",
       "    }\n",
       "\n",
       "    .dataframe tbody tr th {\n",
       "        vertical-align: top;\n",
       "    }\n",
       "\n",
       "    .dataframe thead th {\n",
       "        text-align: right;\n",
       "    }\n",
       "</style>\n",
       "<table border=\"1\" class=\"dataframe\">\n",
       "  <thead>\n",
       "    <tr style=\"text-align: right;\">\n",
       "      <th></th>\n",
       "      <th>product_id</th>\n",
       "      <th>product_name</th>\n",
       "      <th>category</th>\n",
       "      <th>discounted_price</th>\n",
       "      <th>actual_price</th>\n",
       "      <th>discount_percentage</th>\n",
       "      <th>rating</th>\n",
       "      <th>rating_count</th>\n",
       "      <th>about_product</th>\n",
       "      <th>user_id</th>\n",
       "      <th>user_name</th>\n",
       "      <th>review_id</th>\n",
       "      <th>review_title</th>\n",
       "      <th>review_content</th>\n",
       "      <th>img_link</th>\n",
       "      <th>product_link</th>\n",
       "    </tr>\n",
       "  </thead>\n",
       "  <tbody>\n",
       "    <tr>\n",
       "      <th>0</th>\n",
       "      <td>B07JW9H4J1</td>\n",
       "      <td>Wayona Nylon Braided USB to Lightning Fast Cha...</td>\n",
       "      <td>Computers&amp;Accessories|Accessories&amp;Peripherals|...</td>\n",
       "      <td>₹399</td>\n",
       "      <td>₹1,099</td>\n",
       "      <td>64%</td>\n",
       "      <td>4.2</td>\n",
       "      <td>24,269</td>\n",
       "      <td>High Compatibility : Compatible With iPhone 12...</td>\n",
       "      <td>AG3D6O4STAQKAY2UVGEUV46KN35Q,AHMY5CWJMMK5BJRBB...</td>\n",
       "      <td>Manav,Adarsh gupta,Sundeep,S.Sayeed Ahmed,jasp...</td>\n",
       "      <td>R3HXWT0LRP0NMF,R2AJM3LFTLZHFO,R6AQJGUP6P86,R1K...</td>\n",
       "      <td>Satisfied,Charging is really fast,Value for mo...</td>\n",
       "      <td>Looks durable Charging is fine tooNo complains...</td>\n",
       "      <td>https://m.media-amazon.com/images/W/WEBP_40237...</td>\n",
       "      <td>https://www.amazon.in/Wayona-Braided-WN3LG1-Sy...</td>\n",
       "    </tr>\n",
       "  </tbody>\n",
       "</table>\n",
       "</div>"
      ],
      "text/plain": [
       "   product_id                                       product_name  \\\n",
       "0  B07JW9H4J1  Wayona Nylon Braided USB to Lightning Fast Cha...   \n",
       "\n",
       "                                            category discounted_price  \\\n",
       "0  Computers&Accessories|Accessories&Peripherals|...             ₹399   \n",
       "\n",
       "  actual_price discount_percentage rating rating_count  \\\n",
       "0       ₹1,099                 64%    4.2       24,269   \n",
       "\n",
       "                                       about_product  \\\n",
       "0  High Compatibility : Compatible With iPhone 12...   \n",
       "\n",
       "                                             user_id  \\\n",
       "0  AG3D6O4STAQKAY2UVGEUV46KN35Q,AHMY5CWJMMK5BJRBB...   \n",
       "\n",
       "                                           user_name  \\\n",
       "0  Manav,Adarsh gupta,Sundeep,S.Sayeed Ahmed,jasp...   \n",
       "\n",
       "                                           review_id  \\\n",
       "0  R3HXWT0LRP0NMF,R2AJM3LFTLZHFO,R6AQJGUP6P86,R1K...   \n",
       "\n",
       "                                        review_title  \\\n",
       "0  Satisfied,Charging is really fast,Value for mo...   \n",
       "\n",
       "                                      review_content  \\\n",
       "0  Looks durable Charging is fine tooNo complains...   \n",
       "\n",
       "                                            img_link  \\\n",
       "0  https://m.media-amazon.com/images/W/WEBP_40237...   \n",
       "\n",
       "                                        product_link  \n",
       "0  https://www.amazon.in/Wayona-Braided-WN3LG1-Sy...  "
      ]
     },
     "execution_count": 94,
     "metadata": {},
     "output_type": "execute_result"
    }
   ],
   "source": [
    "df = pd.read_csv('newamazon.csv')\n",
    "data = pd.DataFrame(df)\n",
    "data.head(1)"
   ]
  },
  {
   "cell_type": "markdown",
   "id": "aac2d786-ec30-4f15-8fe0-12b00668f571",
   "metadata": {},
   "source": [
    "*CLEANING*"
   ]
  },
  {
   "cell_type": "code",
   "execution_count": 97,
   "id": "85bf5267-913c-4ce7-b8a7-f62245fca9c0",
   "metadata": {
    "scrolled": true
   },
   "outputs": [
    {
     "data": {
      "text/plain": [
       "product_id             0\n",
       "product_name           0\n",
       "category               0\n",
       "discounted_price       0\n",
       "actual_price           0\n",
       "discount_percentage    0\n",
       "rating                 0\n",
       "rating_count           2\n",
       "about_product          0\n",
       "user_id                0\n",
       "user_name              0\n",
       "review_id              0\n",
       "review_title           0\n",
       "review_content         0\n",
       "img_link               0\n",
       "product_link           0\n",
       "dtype: int64"
      ]
     },
     "execution_count": 97,
     "metadata": {},
     "output_type": "execute_result"
    }
   ],
   "source": [
    "data.isnull().sum()"
   ]
  },
  {
   "cell_type": "markdown",
   "id": "950dfb7f-422d-4cd2-b74e-6c18ea40822b",
   "metadata": {},
   "source": [
    "*SEARCHING DUPLICATES*"
   ]
  },
  {
   "cell_type": "code",
   "execution_count": 100,
   "id": "eacec5c5-cc35-4101-9d51-930ec170bc65",
   "metadata": {},
   "outputs": [
    {
     "name": "stdout",
     "output_type": "stream",
     "text": [
      "0\n"
     ]
    }
   ],
   "source": [
    "dupli = data[data.duplicated('product_id', keep = False)]\n",
    "total = data[data['product_id'].isin(dupli)]['product_id'].count()\n",
    "print(total)"
   ]
  },
  {
   "cell_type": "markdown",
   "id": "eef2374f-0430-40d3-ac0f-ddf5e53080e0",
   "metadata": {},
   "source": [
    "*Formating data*"
   ]
  },
  {
   "cell_type": "code",
   "execution_count": 103,
   "id": "e162b956-e183-46d8-a000-6fce08ba9327",
   "metadata": {},
   "outputs": [
    {
     "name": "stdout",
     "output_type": "stream",
     "text": [
      "product_id              object\n",
      "product_name            object\n",
      "category                object\n",
      "discounted_price         Int64\n",
      "actual_price             Int64\n",
      "discount_percentage      Int64\n",
      "rating                 float64\n",
      "rating_count             Int64\n",
      "about_product           object\n",
      "user_id                 object\n",
      "user_name               object\n",
      "review_id               object\n",
      "review_title            object\n",
      "review_content          object\n",
      "img_link                object\n",
      "product_link            object\n",
      "dtype: object\n",
      "<class 'pandas.core.frame.DataFrame'>\n",
      "RangeIndex: 1465 entries, 0 to 1464\n",
      "Data columns (total 16 columns):\n",
      " #   Column               Non-Null Count  Dtype  \n",
      "---  ------               --------------  -----  \n",
      " 0   product_id           1465 non-null   object \n",
      " 1   product_name         1465 non-null   object \n",
      " 2   category             1465 non-null   object \n",
      " 3   discounted_price     1465 non-null   Int64  \n",
      " 4   actual_price         1465 non-null   Int64  \n",
      " 5   discount_percentage  1465 non-null   Int64  \n",
      " 6   rating               1464 non-null   float64\n",
      " 7   rating_count         1463 non-null   Int64  \n",
      " 8   about_product        1465 non-null   object \n",
      " 9   user_id              1465 non-null   object \n",
      " 10  user_name            1465 non-null   object \n",
      " 11  review_id            1465 non-null   object \n",
      " 12  review_title         1465 non-null   object \n",
      " 13  review_content       1465 non-null   object \n",
      " 14  img_link             1465 non-null   object \n",
      " 15  product_link         1465 non-null   object \n",
      "dtypes: Int64(4), float64(1), object(11)\n",
      "memory usage: 189.0+ KB\n",
      "None\n",
      "   product_id                                       product_name  \\\n",
      "0  B07JW9H4J1  Wayona Nylon Braided USB to Lightning Fast Cha...   \n",
      "1  B098NS6PVG  Ambrane Unbreakable 60W / 3A Fast Charging 1.5...   \n",
      "\n",
      "                                            category  discounted_price  \\\n",
      "0  Computers&Accessories|Accessories&Peripherals|...               399   \n",
      "1  Computers&Accessories|Accessories&Peripherals|...               199   \n",
      "\n",
      "   actual_price  discount_percentage  rating  rating_count  \\\n",
      "0          1099                   64     4.2         24269   \n",
      "1           349                   43     4.0         43994   \n",
      "\n",
      "                                       about_product  \\\n",
      "0  High Compatibility : Compatible With iPhone 12...   \n",
      "1  Compatible with all Type C enabled devices, be...   \n",
      "\n",
      "                                             user_id  \\\n",
      "0  AG3D6O4STAQKAY2UVGEUV46KN35Q,AHMY5CWJMMK5BJRBB...   \n",
      "1  AECPFYFQVRUWC3KGNLJIOREFP5LQ,AGYYVPDD7YG7FYNBX...   \n",
      "\n",
      "                                           user_name  \\\n",
      "0  Manav,Adarsh gupta,Sundeep,S.Sayeed Ahmed,jasp...   \n",
      "1  ArdKn,Nirbhay kumar,Sagar Viswanathan,Asp,Plac...   \n",
      "\n",
      "                                           review_id  \\\n",
      "0  R3HXWT0LRP0NMF,R2AJM3LFTLZHFO,R6AQJGUP6P86,R1K...   \n",
      "1  RGIQEG07R9HS2,R1SMWZQ86XIN8U,R2J3Y1WL29GWDE,RY...   \n",
      "\n",
      "                                        review_title  \\\n",
      "0  Satisfied,Charging is really fast,Value for mo...   \n",
      "1  A Good Braided Cable for Your Type C Device,Go...   \n",
      "\n",
      "                                      review_content  \\\n",
      "0  Looks durable Charging is fine tooNo complains...   \n",
      "1  I ordered this cable to connect my phone to An...   \n",
      "\n",
      "                                            img_link  \\\n",
      "0  https://m.media-amazon.com/images/W/WEBP_40237...   \n",
      "1  https://m.media-amazon.com/images/W/WEBP_40237...   \n",
      "\n",
      "                                        product_link  \n",
      "0  https://www.amazon.in/Wayona-Braided-WN3LG1-Sy...  \n",
      "1  https://www.amazon.in/Ambrane-Unbreakable-Char...  \n"
     ]
    }
   ],
   "source": [
    "data['rating'] = pd.to_numeric(data['rating'],errors = 'coerce').astype('float64')\n",
    "numeric_cols = ['discounted_price', 'actual_price', 'discount_percentage','rating_count']\n",
    "\n",
    "unwant = [',','.',',','\\xa0','%','₹','ā','â','â‚¹','¹']\n",
    "for col in numeric_cols:\n",
    "    data[col] = data[col].astype(str)\n",
    "    for char in unwant:\n",
    "        data[col] = data[col].str.replace(char,'',regex=False)\n",
    "    data[col] = pd.to_numeric(data[col], errors=\"coerce\").astype(\"Int64\")\n",
    "    \n",
    "print(data.dtypes)\n",
    "print(data.info())     \n",
    "print(data.head(2))"
   ]
  },
  {
   "cell_type": "markdown",
   "id": "99ab2651-1a1a-4f78-a05d-d7ba36681056",
   "metadata": {},
   "source": [
    "*SAVING CLEAN FILE* "
   ]
  },
  {
   "cell_type": "code",
   "execution_count": 91,
   "id": "83263dd6-bee0-4cdf-9e74-5d531d350f42",
   "metadata": {},
   "outputs": [],
   "source": [
    "data.to_csv('clean_format_amazon.csv',index = False)"
   ]
  },
  {
   "cell_type": "code",
   "execution_count": null,
   "id": "ac515fdb-3fdb-4e97-ac1d-8e76ded13a41",
   "metadata": {},
   "outputs": [],
   "source": []
  }
 ],
 "metadata": {
  "kernelspec": {
   "display_name": "Python [conda env:base] *",
   "language": "python",
   "name": "conda-base-py"
  },
  "language_info": {
   "codemirror_mode": {
    "name": "ipython",
    "version": 3
   },
   "file_extension": ".py",
   "mimetype": "text/x-python",
   "name": "python",
   "nbconvert_exporter": "python",
   "pygments_lexer": "ipython3",
   "version": "3.12.7"
  }
 },
 "nbformat": 4,
 "nbformat_minor": 5
}
